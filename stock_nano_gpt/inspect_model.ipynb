{
 "cells": [
  {
   "cell_type": "code",
   "execution_count": 1,
   "metadata": {},
   "outputs": [],
   "source": [
    "from typing import List\n",
    "\n",
    "import numpy as np\n",
    "import pandas as pd\n",
    "import torch\n",
    "\n",
    "from gpt_model import *\n",
    "\n",
    "import matplotlib.pyplot as plt\n",
    "import seaborn as sns\n",
    "import plotly.express as px\n",
    "import umap.umap_ as umap"
   ]
  },
  {
   "cell_type": "code",
   "execution_count": 2,
   "metadata": {},
   "outputs": [],
   "source": [
    "# Variables\n",
    "\n",
    "from config import KEY, PERIOD, TRANS_TYPE, STORE_PATH, SEQ_TYPE, NORM_SIZE, TARGET_PERIOD"
   ]
  },
  {
   "cell_type": "code",
   "execution_count": 3,
   "metadata": {},
   "outputs": [
    {
     "data": {
      "text/plain": [
       "'C:/Users/robert.franklin/Desktop/local_projects/random/stock-gpt/data/close_single_long_period30_pred1_norm_normsize30.pt'"
      ]
     },
     "execution_count": 3,
     "metadata": {},
     "output_type": "execute_result"
    }
   ],
   "source": [
    "\n",
    "# Build fp\n",
    "fields = [KEY, SEQ_TYPE]\n",
    "DATA_FP = \"_\".join(fields)+\".np\"\n",
    "VAL_DATA_FP = \"_\".join(fields+[\"val\"])+\".np\"\n",
    "fields = [KEY, SEQ_TYPE, f\"period{PERIOD}\", f\"pred{TARGET_PERIOD}\"]\n",
    "if TRANS_TYPE == \"norm\":\n",
    "    fields += [\"norm\", f\"normsize{NORM_SIZE}\"]\n",
    "elif TRANS_TYPE:\n",
    "    fields += [TRANS_TYPE]\n",
    "MODEL_FP = \"_\".join(fields)+\".pt\"\n",
    "fp = os.path.join(STORE_PATH, DATA_FP)\n",
    "val_fp = os.path.join(STORE_PATH, VAL_DATA_FP)\n",
    "model_fp = os.path.join(STORE_PATH, MODEL_FP)\n",
    "model_fp"
   ]
  },
  {
   "cell_type": "code",
   "execution_count": 4,
   "metadata": {},
   "outputs": [
    {
     "name": "stdout",
     "output_type": "stream",
     "text": [
      "train and val data shape: 746 and 746\n"
     ]
    }
   ],
   "source": [
    "# Import the data\n",
    "data = np.load(fp)\n",
    "val_data = np.load(val_fp)\n",
    "# Replace nan\n",
    "train_data = np.where(np.isnan(data), -1, data)\n",
    "val_data = np.where(np.isnan(val_data), -1, val_data)\n",
    "# Convert to tensor\n",
    "train_data = torch.tensor(train_data, dtype=torch.float32)\n",
    "val_data = torch.tensor(val_data, dtype=torch.float32)\n",
    "print(f\"train and val data shape: {train_data.shape[0]:,.0f} and {val_data.shape[0]:,.0f}\")"
   ]
  },
  {
   "cell_type": "code",
   "execution_count": 5,
   "metadata": {},
   "outputs": [],
   "source": [
    "# Transformation methods\n",
    "def trans_norm(t: torch.Tensor, norm_size:int = NORM_SIZE) -> torch.Tensor:\n",
    "    # Limit the normalisation group to block_size\n",
    "    # This will allow for values >1 and <0 in the block\n",
    "    lim = norm_size if t.shape[1] > norm_size else None\n",
    "    t_lim = t[:, :lim]\n",
    "    maxs = (torch.max(\n",
    "        torch.where(~t_lim.isnan(), t_lim, -torch.inf),\n",
    "        axis=1\n",
    "    ).values * torch.ones_like(t.T)).T\n",
    "    mins = (torch.min(\n",
    "        torch.where(~t_lim.isnan(), t_lim, torch.inf),\n",
    "        axis=1\n",
    "    ).values * torch.ones_like(t.T)).T\n",
    "    out = ((t - mins) / (maxs - mins))\n",
    "    # Avoid inf \n",
    "    # (this will happen where it's the same number throughout)\n",
    "    out = torch.where(\n",
    "        out != torch.inf,\n",
    "        out, 0\n",
    "    )\n",
    "    # Set a max and min limit\n",
    "    if VAL_LIMIT is not None:\n",
    "        out = torch.where(out > VAL_LIMIT, VAL_LIMIT, out)\n",
    "        out = torch.where(out < -VAL_LIMIT, -VAL_LIMIT, out)\n",
    "    # Convert inf to torch.nan\n",
    "    out = out.nan_to_num(VAL_LIMIT, neginf=VAL_LIMIT, posinf=VAL_LIMIT)\n",
    "    return out\n",
    "\n",
    "def trans_norm_to_first(t: torch.Tensor) -> torch.Tensor:\n",
    "    t2 = t[:, 0]\n",
    "    t2 = (t2 * torch.ones_like(t.T)).T\n",
    "    t = t / t2\n",
    "    return t\n",
    "\n",
    "def trans_log(t: torch.Tensor) -> torch.Tensor:\n",
    "    return torch.log(t.nan_to_num(0, neginf=0, posinf=0))\n",
    "\n",
    "def trans_inf(t: torch.Tensor) -> torch.Tensor:\n",
    "    return t.nan_to_num(0, neginf=-1, posinf=1)\n",
    "\n",
    "# Set the function\n",
    "if TRANS_TYPE == \"norm\":\n",
    "    trans_func = trans_norm\n",
    "elif TRANS_TYPE == \"norm_to_first\":\n",
    "    trans_func = trans_norm_to_first\n",
    "elif TRANS_TYPE == \"log\":\n",
    "    trans_func = trans_log\n",
    "else:\n",
    "    trans_func = trans_inf"
   ]
  },
  {
   "cell_type": "code",
   "execution_count": 6,
   "metadata": {},
   "outputs": [],
   "source": [
    "# data loading\n",
    "def generate_samples(data: torch.Tensor,\n",
    "                     batch_size:int,\n",
    "                     block_size:int,\n",
    "                     steps:int,\n",
    "                     ) -> List[torch.Tensor]:\n",
    "    samples = torch.Tensor()\n",
    "    n = 0\n",
    "    while samples.shape[0] < batch_size:\n",
    "        sample_size = batch_size - samples.shape[0]\n",
    "        ix1 = torch.randint(data.shape[0], (sample_size, ))\n",
    "        ix2 = torch.randint(data.shape[1] - (block_size+steps), (sample_size, ))\n",
    "        ix = torch.stack([ix1, ix2], dim=1)\n",
    "        new_samples = torch.stack([data[i, j:j+block_size+steps] for i, j in ix])\n",
    "        # Keep only where it is not full of nan or the same values\n",
    "        new_samples = new_samples[\n",
    "            ~torch.isnan(new_samples).all(axis=1)\n",
    "            & (new_samples.max(axis=1).values != new_samples.min(axis=1).values)\n",
    "            ]\n",
    "        samples = torch.cat([samples, new_samples])\n",
    "        n += 1\n",
    "        if n > 100:\n",
    "            raise Exception(\"Could not find enough samples\")\n",
    "    return samples\n",
    "\n",
    "def get_batch(\n",
    "        split,\n",
    "        step: int = 1,\n",
    "        trans_func: callable = lambda x: x,\n",
    "        *args,\n",
    "        **kwargs\n",
    "        ) -> List[torch.Tensor]:\n",
    "    # generate a small batch of data of inputs x and targets y\n",
    "    data = train_data if split == 'train' else val_data\n",
    "    batch = generate_samples(data, batch_size, PERIOD, step)\n",
    "    # Normalise\n",
    "    batch = trans_func(batch, *args , **kwargs)\n",
    "    # Split into x and y\n",
    "    x = batch[:, :block_size]\n",
    "    y = batch[:, step:block_size+step]\n",
    "    if device == 'cuda':\n",
    "        # pin arrays x,y, which allows us to move them to GPU asynchronously (non_blocking=True)\n",
    "        x, y = x.pin_memory().to(device, non_blocking=True), y.pin_memory().to(\n",
    "            device, non_blocking=True)\n",
    "    else:\n",
    "        x, y = x.to(device), y.to(device)\n",
    "    return x, y"
   ]
  },
  {
   "cell_type": "code",
   "execution_count": 7,
   "metadata": {},
   "outputs": [],
   "source": [
    "# Load the model\n",
    "model = torch.load(model_fp)"
   ]
  },
  {
   "cell_type": "code",
   "execution_count": 8,
   "metadata": {},
   "outputs": [
    {
     "data": {
      "text/plain": [
       "torch.Size([30, 256])"
      ]
     },
     "execution_count": 8,
     "metadata": {},
     "output_type": "execute_result"
    }
   ],
   "source": [
    "# Extract the item embeddings format he model\n",
    "pos_embd = torch.Tensor.cpu(model.transformer.wpe.weight.data) # gpt\n",
    "pos_embd.shape"
   ]
  },
  {
   "cell_type": "code",
   "execution_count": 9,
   "metadata": {},
   "outputs": [
    {
     "data": {
      "application/vnd.plotly.v1+json": {
       "config": {
        "plotlyServerURL": "https://plot.ly"
       },
       "data": [
        {
         "customdata": [
          [
           0
          ],
          [
           1
          ],
          [
           2
          ],
          [
           3
          ],
          [
           4
          ],
          [
           5
          ],
          [
           6
          ],
          [
           7
          ],
          [
           8
          ],
          [
           9
          ],
          [
           10
          ],
          [
           11
          ],
          [
           12
          ],
          [
           13
          ],
          [
           14
          ],
          [
           15
          ],
          [
           16
          ],
          [
           17
          ],
          [
           18
          ],
          [
           19
          ],
          [
           20
          ],
          [
           21
          ],
          [
           22
          ],
          [
           23
          ],
          [
           24
          ],
          [
           25
          ],
          [
           26
          ],
          [
           27
          ],
          [
           28
          ],
          [
           29
          ]
         ],
         "hovertemplate": "x=%{x}<br>y=%{y}<br>pos=%{marker.color}<extra></extra>",
         "legendgroup": "",
         "marker": {
          "color": [
           0,
           1,
           2,
           3,
           4,
           5,
           6,
           7,
           8,
           9,
           10,
           11,
           12,
           13,
           14,
           15,
           16,
           17,
           18,
           19,
           20,
           21,
           22,
           23,
           24,
           25,
           26,
           27,
           28,
           29
          ],
          "coloraxis": "coloraxis",
          "symbol": "circle"
         },
         "mode": "markers",
         "name": "",
         "orientation": "v",
         "showlegend": false,
         "type": "scatter",
         "x": [
          -2.1795706748962402,
          -2.8957793712615967,
          -2.579157829284668,
          -2.9460160732269287,
          -3.985084056854248,
          -3.518359899520874,
          -4.6923699378967285,
          -2.9932632446289062,
          -3.975038766860962,
          -4.038730621337891,
          -4.046422004699707,
          -3.5519189834594727,
          -3.160877227783203,
          -5.226433753967285,
          -2.3172388076782227,
          -3.1876094341278076,
          -4.807496547698975,
          -3.713550567626953,
          -4.675984859466553,
          -4.276207447052002,
          -5.1165080070495605,
          -4.541491985321045,
          -3.824289321899414,
          -4.986178398132324,
          -4.7051286697387695,
          -4.789183139801025,
          -4.647913932800293,
          -4.2051191329956055,
          -4.2742180824279785,
          -2.582887887954712
         ],
         "xaxis": "x",
         "y": [
          5.898240089416504,
          6.111166954040527,
          5.821556091308594,
          5.673294544219971,
          3.761756420135498,
          2.4980382919311523,
          1.4287283420562744,
          4.064491271972656,
          5.585302829742432,
          5.090590000152588,
          1.5166075229644775,
          1.7870186567306519,
          2.923344612121582,
          2.228555202484131,
          5.19456672668457,
          3.695720672607422,
          2.1139400005340576,
          2.9430630207061768,
          5.0238213539123535,
          4.522711277008057,
          2.81430721282959,
          1.93128502368927,
          3.6648967266082764,
          3.3339855670928955,
          4.434800624847412,
          2.5618035793304443,
          3.1034984588623047,
          2.914950132369995,
          3.391103982925415,
          4.844234466552734
         ],
         "yaxis": "y"
        }
       ],
       "layout": {
        "coloraxis": {
         "colorbar": {
          "title": {
           "text": "pos"
          }
         },
         "colorscale": [
          [
           0,
           "#0d0887"
          ],
          [
           0.1111111111111111,
           "#46039f"
          ],
          [
           0.2222222222222222,
           "#7201a8"
          ],
          [
           0.3333333333333333,
           "#9c179e"
          ],
          [
           0.4444444444444444,
           "#bd3786"
          ],
          [
           0.5555555555555556,
           "#d8576b"
          ],
          [
           0.6666666666666666,
           "#ed7953"
          ],
          [
           0.7777777777777778,
           "#fb9f3a"
          ],
          [
           0.8888888888888888,
           "#fdca26"
          ],
          [
           1,
           "#f0f921"
          ]
         ]
        },
        "height": 400,
        "legend": {
         "tracegroupgap": 0
        },
        "margin": {
         "t": 60
        },
        "template": {
         "data": {
          "bar": [
           {
            "error_x": {
             "color": "#2a3f5f"
            },
            "error_y": {
             "color": "#2a3f5f"
            },
            "marker": {
             "line": {
              "color": "#E5ECF6",
              "width": 0.5
             },
             "pattern": {
              "fillmode": "overlay",
              "size": 10,
              "solidity": 0.2
             }
            },
            "type": "bar"
           }
          ],
          "barpolar": [
           {
            "marker": {
             "line": {
              "color": "#E5ECF6",
              "width": 0.5
             },
             "pattern": {
              "fillmode": "overlay",
              "size": 10,
              "solidity": 0.2
             }
            },
            "type": "barpolar"
           }
          ],
          "carpet": [
           {
            "aaxis": {
             "endlinecolor": "#2a3f5f",
             "gridcolor": "white",
             "linecolor": "white",
             "minorgridcolor": "white",
             "startlinecolor": "#2a3f5f"
            },
            "baxis": {
             "endlinecolor": "#2a3f5f",
             "gridcolor": "white",
             "linecolor": "white",
             "minorgridcolor": "white",
             "startlinecolor": "#2a3f5f"
            },
            "type": "carpet"
           }
          ],
          "choropleth": [
           {
            "colorbar": {
             "outlinewidth": 0,
             "ticks": ""
            },
            "type": "choropleth"
           }
          ],
          "contour": [
           {
            "colorbar": {
             "outlinewidth": 0,
             "ticks": ""
            },
            "colorscale": [
             [
              0,
              "#0d0887"
             ],
             [
              0.1111111111111111,
              "#46039f"
             ],
             [
              0.2222222222222222,
              "#7201a8"
             ],
             [
              0.3333333333333333,
              "#9c179e"
             ],
             [
              0.4444444444444444,
              "#bd3786"
             ],
             [
              0.5555555555555556,
              "#d8576b"
             ],
             [
              0.6666666666666666,
              "#ed7953"
             ],
             [
              0.7777777777777778,
              "#fb9f3a"
             ],
             [
              0.8888888888888888,
              "#fdca26"
             ],
             [
              1,
              "#f0f921"
             ]
            ],
            "type": "contour"
           }
          ],
          "contourcarpet": [
           {
            "colorbar": {
             "outlinewidth": 0,
             "ticks": ""
            },
            "type": "contourcarpet"
           }
          ],
          "heatmap": [
           {
            "colorbar": {
             "outlinewidth": 0,
             "ticks": ""
            },
            "colorscale": [
             [
              0,
              "#0d0887"
             ],
             [
              0.1111111111111111,
              "#46039f"
             ],
             [
              0.2222222222222222,
              "#7201a8"
             ],
             [
              0.3333333333333333,
              "#9c179e"
             ],
             [
              0.4444444444444444,
              "#bd3786"
             ],
             [
              0.5555555555555556,
              "#d8576b"
             ],
             [
              0.6666666666666666,
              "#ed7953"
             ],
             [
              0.7777777777777778,
              "#fb9f3a"
             ],
             [
              0.8888888888888888,
              "#fdca26"
             ],
             [
              1,
              "#f0f921"
             ]
            ],
            "type": "heatmap"
           }
          ],
          "heatmapgl": [
           {
            "colorbar": {
             "outlinewidth": 0,
             "ticks": ""
            },
            "colorscale": [
             [
              0,
              "#0d0887"
             ],
             [
              0.1111111111111111,
              "#46039f"
             ],
             [
              0.2222222222222222,
              "#7201a8"
             ],
             [
              0.3333333333333333,
              "#9c179e"
             ],
             [
              0.4444444444444444,
              "#bd3786"
             ],
             [
              0.5555555555555556,
              "#d8576b"
             ],
             [
              0.6666666666666666,
              "#ed7953"
             ],
             [
              0.7777777777777778,
              "#fb9f3a"
             ],
             [
              0.8888888888888888,
              "#fdca26"
             ],
             [
              1,
              "#f0f921"
             ]
            ],
            "type": "heatmapgl"
           }
          ],
          "histogram": [
           {
            "marker": {
             "pattern": {
              "fillmode": "overlay",
              "size": 10,
              "solidity": 0.2
             }
            },
            "type": "histogram"
           }
          ],
          "histogram2d": [
           {
            "colorbar": {
             "outlinewidth": 0,
             "ticks": ""
            },
            "colorscale": [
             [
              0,
              "#0d0887"
             ],
             [
              0.1111111111111111,
              "#46039f"
             ],
             [
              0.2222222222222222,
              "#7201a8"
             ],
             [
              0.3333333333333333,
              "#9c179e"
             ],
             [
              0.4444444444444444,
              "#bd3786"
             ],
             [
              0.5555555555555556,
              "#d8576b"
             ],
             [
              0.6666666666666666,
              "#ed7953"
             ],
             [
              0.7777777777777778,
              "#fb9f3a"
             ],
             [
              0.8888888888888888,
              "#fdca26"
             ],
             [
              1,
              "#f0f921"
             ]
            ],
            "type": "histogram2d"
           }
          ],
          "histogram2dcontour": [
           {
            "colorbar": {
             "outlinewidth": 0,
             "ticks": ""
            },
            "colorscale": [
             [
              0,
              "#0d0887"
             ],
             [
              0.1111111111111111,
              "#46039f"
             ],
             [
              0.2222222222222222,
              "#7201a8"
             ],
             [
              0.3333333333333333,
              "#9c179e"
             ],
             [
              0.4444444444444444,
              "#bd3786"
             ],
             [
              0.5555555555555556,
              "#d8576b"
             ],
             [
              0.6666666666666666,
              "#ed7953"
             ],
             [
              0.7777777777777778,
              "#fb9f3a"
             ],
             [
              0.8888888888888888,
              "#fdca26"
             ],
             [
              1,
              "#f0f921"
             ]
            ],
            "type": "histogram2dcontour"
           }
          ],
          "mesh3d": [
           {
            "colorbar": {
             "outlinewidth": 0,
             "ticks": ""
            },
            "type": "mesh3d"
           }
          ],
          "parcoords": [
           {
            "line": {
             "colorbar": {
              "outlinewidth": 0,
              "ticks": ""
             }
            },
            "type": "parcoords"
           }
          ],
          "pie": [
           {
            "automargin": true,
            "type": "pie"
           }
          ],
          "scatter": [
           {
            "fillpattern": {
             "fillmode": "overlay",
             "size": 10,
             "solidity": 0.2
            },
            "type": "scatter"
           }
          ],
          "scatter3d": [
           {
            "line": {
             "colorbar": {
              "outlinewidth": 0,
              "ticks": ""
             }
            },
            "marker": {
             "colorbar": {
              "outlinewidth": 0,
              "ticks": ""
             }
            },
            "type": "scatter3d"
           }
          ],
          "scattercarpet": [
           {
            "marker": {
             "colorbar": {
              "outlinewidth": 0,
              "ticks": ""
             }
            },
            "type": "scattercarpet"
           }
          ],
          "scattergeo": [
           {
            "marker": {
             "colorbar": {
              "outlinewidth": 0,
              "ticks": ""
             }
            },
            "type": "scattergeo"
           }
          ],
          "scattergl": [
           {
            "marker": {
             "colorbar": {
              "outlinewidth": 0,
              "ticks": ""
             }
            },
            "type": "scattergl"
           }
          ],
          "scattermapbox": [
           {
            "marker": {
             "colorbar": {
              "outlinewidth": 0,
              "ticks": ""
             }
            },
            "type": "scattermapbox"
           }
          ],
          "scatterpolar": [
           {
            "marker": {
             "colorbar": {
              "outlinewidth": 0,
              "ticks": ""
             }
            },
            "type": "scatterpolar"
           }
          ],
          "scatterpolargl": [
           {
            "marker": {
             "colorbar": {
              "outlinewidth": 0,
              "ticks": ""
             }
            },
            "type": "scatterpolargl"
           }
          ],
          "scatterternary": [
           {
            "marker": {
             "colorbar": {
              "outlinewidth": 0,
              "ticks": ""
             }
            },
            "type": "scatterternary"
           }
          ],
          "surface": [
           {
            "colorbar": {
             "outlinewidth": 0,
             "ticks": ""
            },
            "colorscale": [
             [
              0,
              "#0d0887"
             ],
             [
              0.1111111111111111,
              "#46039f"
             ],
             [
              0.2222222222222222,
              "#7201a8"
             ],
             [
              0.3333333333333333,
              "#9c179e"
             ],
             [
              0.4444444444444444,
              "#bd3786"
             ],
             [
              0.5555555555555556,
              "#d8576b"
             ],
             [
              0.6666666666666666,
              "#ed7953"
             ],
             [
              0.7777777777777778,
              "#fb9f3a"
             ],
             [
              0.8888888888888888,
              "#fdca26"
             ],
             [
              1,
              "#f0f921"
             ]
            ],
            "type": "surface"
           }
          ],
          "table": [
           {
            "cells": {
             "fill": {
              "color": "#EBF0F8"
             },
             "line": {
              "color": "white"
             }
            },
            "header": {
             "fill": {
              "color": "#C8D4E3"
             },
             "line": {
              "color": "white"
             }
            },
            "type": "table"
           }
          ]
         },
         "layout": {
          "annotationdefaults": {
           "arrowcolor": "#2a3f5f",
           "arrowhead": 0,
           "arrowwidth": 1
          },
          "autotypenumbers": "strict",
          "coloraxis": {
           "colorbar": {
            "outlinewidth": 0,
            "ticks": ""
           }
          },
          "colorscale": {
           "diverging": [
            [
             0,
             "#8e0152"
            ],
            [
             0.1,
             "#c51b7d"
            ],
            [
             0.2,
             "#de77ae"
            ],
            [
             0.3,
             "#f1b6da"
            ],
            [
             0.4,
             "#fde0ef"
            ],
            [
             0.5,
             "#f7f7f7"
            ],
            [
             0.6,
             "#e6f5d0"
            ],
            [
             0.7,
             "#b8e186"
            ],
            [
             0.8,
             "#7fbc41"
            ],
            [
             0.9,
             "#4d9221"
            ],
            [
             1,
             "#276419"
            ]
           ],
           "sequential": [
            [
             0,
             "#0d0887"
            ],
            [
             0.1111111111111111,
             "#46039f"
            ],
            [
             0.2222222222222222,
             "#7201a8"
            ],
            [
             0.3333333333333333,
             "#9c179e"
            ],
            [
             0.4444444444444444,
             "#bd3786"
            ],
            [
             0.5555555555555556,
             "#d8576b"
            ],
            [
             0.6666666666666666,
             "#ed7953"
            ],
            [
             0.7777777777777778,
             "#fb9f3a"
            ],
            [
             0.8888888888888888,
             "#fdca26"
            ],
            [
             1,
             "#f0f921"
            ]
           ],
           "sequentialminus": [
            [
             0,
             "#0d0887"
            ],
            [
             0.1111111111111111,
             "#46039f"
            ],
            [
             0.2222222222222222,
             "#7201a8"
            ],
            [
             0.3333333333333333,
             "#9c179e"
            ],
            [
             0.4444444444444444,
             "#bd3786"
            ],
            [
             0.5555555555555556,
             "#d8576b"
            ],
            [
             0.6666666666666666,
             "#ed7953"
            ],
            [
             0.7777777777777778,
             "#fb9f3a"
            ],
            [
             0.8888888888888888,
             "#fdca26"
            ],
            [
             1,
             "#f0f921"
            ]
           ]
          },
          "colorway": [
           "#636efa",
           "#EF553B",
           "#00cc96",
           "#ab63fa",
           "#FFA15A",
           "#19d3f3",
           "#FF6692",
           "#B6E880",
           "#FF97FF",
           "#FECB52"
          ],
          "font": {
           "color": "#2a3f5f"
          },
          "geo": {
           "bgcolor": "white",
           "lakecolor": "white",
           "landcolor": "#E5ECF6",
           "showlakes": true,
           "showland": true,
           "subunitcolor": "white"
          },
          "hoverlabel": {
           "align": "left"
          },
          "hovermode": "closest",
          "mapbox": {
           "style": "light"
          },
          "paper_bgcolor": "white",
          "plot_bgcolor": "#E5ECF6",
          "polar": {
           "angularaxis": {
            "gridcolor": "white",
            "linecolor": "white",
            "ticks": ""
           },
           "bgcolor": "#E5ECF6",
           "radialaxis": {
            "gridcolor": "white",
            "linecolor": "white",
            "ticks": ""
           }
          },
          "scene": {
           "xaxis": {
            "backgroundcolor": "#E5ECF6",
            "gridcolor": "white",
            "gridwidth": 2,
            "linecolor": "white",
            "showbackground": true,
            "ticks": "",
            "zerolinecolor": "white"
           },
           "yaxis": {
            "backgroundcolor": "#E5ECF6",
            "gridcolor": "white",
            "gridwidth": 2,
            "linecolor": "white",
            "showbackground": true,
            "ticks": "",
            "zerolinecolor": "white"
           },
           "zaxis": {
            "backgroundcolor": "#E5ECF6",
            "gridcolor": "white",
            "gridwidth": 2,
            "linecolor": "white",
            "showbackground": true,
            "ticks": "",
            "zerolinecolor": "white"
           }
          },
          "shapedefaults": {
           "line": {
            "color": "#2a3f5f"
           }
          },
          "ternary": {
           "aaxis": {
            "gridcolor": "white",
            "linecolor": "white",
            "ticks": ""
           },
           "baxis": {
            "gridcolor": "white",
            "linecolor": "white",
            "ticks": ""
           },
           "bgcolor": "#E5ECF6",
           "caxis": {
            "gridcolor": "white",
            "linecolor": "white",
            "ticks": ""
           }
          },
          "title": {
           "x": 0.05
          },
          "xaxis": {
           "automargin": true,
           "gridcolor": "white",
           "linecolor": "white",
           "ticks": "",
           "title": {
            "standoff": 15
           },
           "zerolinecolor": "white",
           "zerolinewidth": 2
          },
          "yaxis": {
           "automargin": true,
           "gridcolor": "white",
           "linecolor": "white",
           "ticks": "",
           "title": {
            "standoff": 15
           },
           "zerolinecolor": "white",
           "zerolinewidth": 2
          }
         }
        },
        "width": 600,
        "xaxis": {
         "anchor": "y",
         "domain": [
          0,
          1
         ],
         "title": {
          "text": "x"
         }
        },
        "yaxis": {
         "anchor": "x",
         "domain": [
          0,
          1
         ],
         "title": {
          "text": "y"
         }
        }
       }
      }
     },
     "metadata": {},
     "output_type": "display_data"
    }
   ],
   "source": [
    "# Fit umap\n",
    "umap_2d = umap.UMAP(n_components=2, init='random', random_state=0)\n",
    "proj_2d = umap_2d.fit_transform(pos_embd)\n",
    "# Plot\n",
    "data = pd.DataFrame(proj_2d, columns=['x', 'y'])\n",
    "data.index.name = \"pos\"\n",
    "data = data.reset_index()\n",
    "\n",
    "fig = px.scatter(\n",
    "    data, x='x', y='y',\n",
    "    hover_data=['pos'],\n",
    "    color=\"pos\",\n",
    "    width=600, height=400\n",
    ")\n",
    "fig.show()"
   ]
  },
  {
   "cell_type": "code",
   "execution_count": 10,
   "metadata": {},
   "outputs": [
    {
     "name": "stdout",
     "output_type": "stream",
     "text": [
      "X tensor([0.7858, 0.8081, 0.8393, 0.3506, 0.4660, 0.1016, 0.0000, 0.1330, 0.3212,\n",
      "        0.5025, 0.4488, 0.5490, 0.6686, 0.8181, 0.7470, 0.6551, 0.4363, 0.4392,\n",
      "        0.8113, 1.0000, 0.8698, 0.8079, 0.7490, 0.9360, 0.8147, 0.7083, 0.8161,\n",
      "        0.5914, 0.7303, 0.3463], device='cuda:0') torch.Size([128, 30])\n",
      "Y tensor([ 0.8081,  0.8393,  0.3506,  0.4660,  0.1016,  0.0000,  0.1330,  0.3212,\n",
      "         0.5025,  0.4488,  0.5490,  0.6686,  0.8181,  0.7470,  0.6551,  0.4363,\n",
      "         0.4392,  0.8113,  1.0000,  0.8698,  0.8079,  0.7490,  0.9360,  0.8147,\n",
      "         0.7083,  0.8161,  0.5914,  0.7303,  0.3463, -0.0458], device='cuda:0') torch.Size([128, 30])\n",
      "logits tensor([0.9354, 0.9349, 0.9350, 0.9475, 0.8457, 0.8437, 0.8053, 0.5543, 0.6400,\n",
      "        0.6396, 0.6070, 0.5691, 0.5422, 0.5161, 0.3568, 0.3622, 0.2670, 0.2646,\n",
      "        0.0751, 0.2329, 0.2646, 0.3160, 0.2656, 0.2287, 0.2109, 0.2887, 0.2593,\n",
      "        0.2280, 0.2884, 0.3403], device='cuda:0', grad_fn=<SelectBackward0>) torch.Size([128, 30])\n",
      "loss tensor(0.5623, device='cuda:0', grad_fn=<MseLossBackward0>)\n"
     ]
    }
   ],
   "source": [
    "X, Y = get_batch(\"val\", TARGET_PERIOD, trans_func)\n",
    "logits, loss = model(X, Y)\n",
    "print(\"X\", X[0], X.shape)\n",
    "print(\"Y\", Y[0], Y.shape)\n",
    "print(\"logits\", logits[0], logits.shape)\n",
    "print(\"loss\", loss)"
   ]
  },
  {
   "cell_type": "code",
   "execution_count": 11,
   "metadata": {},
   "outputs": [],
   "source": [
    "# # X, Y = get_batch(\"val\", TARGET_PERIOD, trans_func)\n",
    "# X_ = torch.concat([X[:, 15:], torch.zeros_like(X[:, 15:])], dim=1)\n",
    "# Y_ = torch.concat([Y[:, 15:], torch.zeros_like(Y[:, 15:])], dim=1)\n",
    "# logits, loss = model(X_, Y_)\n",
    "# print(\"X\", X_[0], X_.shape)\n",
    "# print(\"Y\", Y_[0], Y_.shape)\n",
    "# print(\"logits\", logits[0], logits.shape)\n",
    "# print(\"loss\", loss)"
   ]
  },
  {
   "cell_type": "code",
   "execution_count": 12,
   "metadata": {},
   "outputs": [
    {
     "data": {
      "image/png": "[encoded data removed]",
      "text/plain": [
       "<Figure size 720x576 with 3 Axes>"
      ]
     },
     "metadata": {
      "needs_background": "light"
     },
     "output_type": "display_data"
    }
   ],
   "source": [
    "# Plot losses\n",
    "losses = torch.abs(logits - Y)\n",
    "last_losses = torch.abs(logits[:, -1] - Y[:, -1])\n",
    "fig, (ax1, ax2, ax3) = plt.subplots(nrows=3, figsize=(10, 8))\n",
    "# Hist plot\n",
    "sns.histplot(x=losses.flatten().detach().cpu().numpy(), bins=100, ax=ax1, label='all_loss')\n",
    "sns.histplot(x=last_losses.flatten().detach().cpu().numpy(), bins=100, ax=ax2, label='last_loss')\n",
    "ax1.set_ylabel('loss')\n",
    "ax2.set_ylabel('loss')\n",
    "ax1.set_title('Losses')\n",
    "ax2.set_title('Last losses')\n",
    "ax1.set_xlim(0, 1)\n",
    "ax2.set_xlim(0, 1)\n",
    "\n",
    "# Scatter plot\n",
    "x_ = np.tile(np.arange(X.shape[1]), X.shape[0])\n",
    "sns.scatterplot(x=x_, y=losses.flatten().detach().cpu().numpy(), ax=ax3, label='all_loss')\n",
    "x_last_ = np.ones((128)) * PERIOD-1\n",
    "sns.scatterplot(x=x_last_, y=last_losses.flatten().detach().cpu().numpy(), ax=ax3, label='last_loss')\n",
    "ax3.set_ylabel('loss')\n",
    "ax3.set_ylim(0, 1)\n",
    "\n",
    "plt.show()"
   ]
  },
  {
   "cell_type": "code",
   "execution_count": 13,
   "metadata": {},
   "outputs": [
    {
     "data": {
      "text/plain": [
       "<AxesSubplot: >"
      ]
     },
     "execution_count": 13,
     "metadata": {},
     "output_type": "execute_result"
    },
    {
     "data": {
      "image/png": "[encoded data removed]",
      "text/plain": [
       "<Figure size 720x576 with 3 Axes>"
      ]
     },
     "metadata": {
      "needs_background": "light"
     },
     "output_type": "display_data"
    }
   ],
   "source": [
    "# Calc values for y=1\n",
    "# y10_mask = Y == 1\n",
    "y10_mask = torch.isin(\n",
    "    torch.concat([torch.zeros_like(Y[:, [0]]), Y[:, :-1]], dim=1)\n",
    "    ,torch.tensor([0, 1], device=device)\n",
    ")\n",
    "y10_losses = torch.abs(logits - Y)\n",
    "y10_losses = y10_losses * y10_mask.to(dtype=torch.float)\n",
    "y10_losses[~y10_mask] = torch.nan\n",
    "\n",
    "y_last10_mask = torch.isin(Y[:, -2], torch.tensor([0, 1], device=device))\n",
    "y_last10_losses = torch.abs(logits[:, -1] - Y[:, -1])\n",
    "y_last10_losses = y_last10_losses * y_last10_mask.to(dtype=torch.float)\n",
    "y_last10_losses[~y_last10_mask] = torch.nan\n",
    "\n",
    "# Plot losses\n",
    "fig, (ax1, ax2, ax3) = plt.subplots(nrows=3, figsize=(10, 8))\n",
    "# Hist plot\n",
    "sns.histplot(x=losses.flatten().detach().cpu().numpy(), bins=100, ax=ax1, label='all_loss')\n",
    "sns.histplot(x=y10_losses.flatten().detach().cpu().numpy(), bins=100, ax=ax1, label='y10_all_loss')\n",
    "sns.histplot(x=last_losses.flatten().detach().cpu().numpy(), bins=100, ax=ax2, label='last_loss')\n",
    "sns.histplot(x=y_last10_losses.flatten().detach().cpu().numpy(), bins=100, ax=ax2, label='y10_last_loss')\n",
    "ax1.set_ylabel('loss')\n",
    "ax2.set_ylabel('loss')\n",
    "ax1.set_title('Losses')\n",
    "ax2.set_title('Last losses')\n",
    "ax1.set_xlim(0, 1)\n",
    "ax2.set_xlim(0, 1)\n",
    "\n",
    "# Scatter plot\n",
    "# x1_ = np.tile(np.arange(X.shape[1]), X.shape[0])[y10_mask.flatten().detach().cpu().numpy()]\n",
    "# sns.scatterplot(x=x_, y=losses.detach().cpu().numpy(), ax=ax3, label='all_loss')\n",
    "# sns.scatterplot(x=x1_, y=y10_losses.flatten().detach().cpu().numpy(), ax=ax3, label='y10_all_loss')\n",
    "# x_last10_ = (np.ones((128)) * PERIOD-1)[y_last10_mask.flatten().detach().cpu().numpy()]\n",
    "# sns.scatterplot(x=x_last_, y=last_losses.detach().cpu().numpy(), ax=ax3, label='last_loss')\n",
    "# sns.scatterplot(x=x_last10_, y=y_last10_losses.flatten().detach().cpu().numpy(), ax=ax3, label='y10_last_loss')\n",
    "# ax3.set_ylabel('loss')\n",
    "# ax3.set_ylim(0, 1)\n",
    "\n",
    "# Line plot\n",
    "sns.lineplot(x=np.arange(PERIOD), y=y10_losses.nanmean(dim=0).detach().cpu().numpy(), ax=ax3, label='y10_all_loss')\n",
    "sns.lineplot(x=np.arange(PERIOD), y=losses.nanmean(dim=0).detach().cpu().numpy(), ax=ax3, label='all_loss')\n",
    "\n",
    "# plt.show()"
   ]
  },
  {
   "cell_type": "code",
   "execution_count": 18,
   "metadata": {},
   "outputs": [
    {
     "data": {
      "image/png": "[encoded data removed]",
      "text/plain": [
       "<Figure size 720x1440 with 4 Axes>"
      ]
     },
     "metadata": {
      "needs_background": "light"
     },
     "output_type": "display_data"
    }
   ],
   "source": [
    "# Plot example predictions\n",
    "idx = np.random.randint(0, 127, (4))\n",
    "fig, axs = plt.subplots(nrows=4, figsize=(10, 20))\n",
    "for ax, i in zip(axs, idx):\n",
    "    sns.lineplot(x=np.arange(Y.shape[1]), y=Y[i].detach().cpu().numpy(), ax=ax, label='Y')\n",
    "    sns.lineplot(x=np.arange(Y.shape[1]), y=logits[i].detach().cpu().numpy(), ax=ax, label='logits')\n",
    "    ax.set_xlabel('step')\n",
    "    ax.set_ylabel('logits')\n",
    "    ax.set_title(f'Predictions - {i}')\n",
    "plt.show()"
   ]
  }
 ],
 "metadata": {
  "kernelspec": {
   "display_name": "Python 3",
   "language": "python",
   "name": "python3"
  },
  "language_info": {
   "codemirror_mode": {
    "name": "ipython",
    "version": 3
   },
   "file_extension": ".py",
   "mimetype": "text/x-python",
   "name": "python",
   "nbconvert_exporter": "python",
   "pygments_lexer": "ipython3",
   "version": "3.10.7"
  },
  "orig_nbformat": 4,
  "vscode": {
   "interpreter": {
    "hash": "846cd937c84d34f0d3ad00aab4f80f3eb7eba7a641c134d3c345679567d693b4"
   }
  }
 },
 "nbformat": 4,
 "nbformat_minor": 2
}
